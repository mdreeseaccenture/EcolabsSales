{
 "cells": [
  {
   "cell_type": "code",
   "execution_count": 1,
   "id": "7054261d",
   "metadata": {},
   "outputs": [],
   "source": [
    "#import required libraries\n",
    "\n",
    "import pandas as pd\n",
    "import os\n",
    "import sweetviz as sv\n",
    "from ydata_profiling import ProfileReport"
   ]
  },
  {
   "cell_type": "code",
   "execution_count": 3,
   "id": "08f71272",
   "metadata": {},
   "outputs": [],
   "source": [
    "#read the three reqiured csv files\n",
    "\n",
    "company_ds = dd.read_csv('free_company_dataset.csv', on_bad_lines='skip')\n",
    "recall_ds = .read_csv('recalls-market-withdrawals-safety-alerts.csv')\n",
    "violations_ds = pd.read_csv('Data_Download_ECHO_10_17_2023_652eac22dbb06.csv')"
   ]
  },
  {
   "cell_type": "code",
   "execution_count": 4,
   "id": "54e4e110",
   "metadata": {},
   "outputs": [
    {
     "name": "stdout",
     "output_type": "stream",
     "text": [
      "<class 'pandas.core.frame.DataFrame'>\n",
      "RangeIndex: 14120761 entries, 0 to 14120760\n",
      "Data columns (total 10 columns):\n",
      " #   Column        Dtype  \n",
      "---  ------        -----  \n",
      " 0   country       object \n",
      " 1   founded       float64\n",
      " 2   id            object \n",
      " 3   industry      object \n",
      " 4   linkedin_url  object \n",
      " 5   locality      object \n",
      " 6   name          object \n",
      " 7   region        object \n",
      " 8   size          object \n",
      " 9   website       object \n",
      "dtypes: float64(1), object(9)\n",
      "memory usage: 1.1+ GB\n"
     ]
    }
   ],
   "source": [
    "company_ds.info()"
   ]
  },
  {
   "cell_type": "code",
   "execution_count": 5,
   "id": "dfa1caad",
   "metadata": {},
   "outputs": [],
   "source": [
    "regions = company_ds.region.unique()"
   ]
  },
  {
   "cell_type": "code",
   "execution_count": 6,
   "id": "f5b2d383",
   "metadata": {},
   "outputs": [
    {
     "name": "stdout",
     "output_type": "stream",
     "text": [
      "5020\n"
     ]
    }
   ],
   "source": [
    "print(len(regions))"
   ]
  },
  {
   "cell_type": "code",
   "execution_count": 7,
   "id": "2357aba8",
   "metadata": {
    "scrolled": true
   },
   "outputs": [],
   "source": [
    "df = pd.DataFrame(regions)\n",
    "df.to_csv('regions.csv')"
   ]
  },
  {
   "cell_type": "code",
   "execution_count": 8,
   "id": "eee8c4d2",
   "metadata": {},
   "outputs": [],
   "source": [
    "na_states = [\n",
    "    #usa\n",
    "    'alabama',\n",
    "    'alaska',\n",
    "    'arizona',\n",
    "    'arkansas',\n",
    "    'california',\n",
    "    'colorado',\n",
    "    'connecticut',\n",
    "    'delaware',\n",
    "    'florida',\n",
    "    'georgia',\n",
    "    'hawaii',\n",
    "    'idaho',\n",
    "    'illinois',\n",
    "    'indiana',\n",
    "    'iowa',\n",
    "    'kansas',\n",
    "    'kentucky',\n",
    "    'louisiana',\n",
    "    'maine',\n",
    "    'maryland',\n",
    "    'massachusetts',\n",
    "    'michigan',\n",
    "    'minnesota',\n",
    "    'mississippi',\n",
    "    'missouri',\n",
    "    'montana',\n",
    "    'nebraska',\n",
    "    'nevada',\n",
    "    'new hampshire',\n",
    "    'new jersey',\n",
    "    'new mexico',\n",
    "    'new york',\n",
    "    'north carolina',\n",
    "    'north dakota',\n",
    "    'ohio',\n",
    "    'oklahoma',\n",
    "    'oregon',\n",
    "    'pennsylvania',\n",
    "    'rhode island',\n",
    "    'south carolina',\n",
    "    'south dakota',\n",
    "    'tennessee',\n",
    "    'texas',\n",
    "    'utah',\n",
    "    'vermont',\n",
    "    'virginia',\n",
    "    'washington',\n",
    "    'west virginia',\n",
    "    'wisconsin',\n",
    "    'wyoming',\n",
    "    #canada\n",
    "    'alberta',\n",
    "    'british columbia',\n",
    "    'manitoba',\n",
    "    'new brunswick',\n",
    "    'newfoundland and labrador',\n",
    "    'nova scotia',\n",
    "    'ontario',\n",
    "    'prince edward island',\n",
    "    'quebec',\n",
    "    'saskatchewan',\n",
    "    'northwest territories',\n",
    "    'nunavut',\n",
    "    'yukon',\n",
    "    #mexico\n",
    "    'aguascalientes',\n",
    "    'baja california',\n",
    "    'baja california sur',\n",
    "    'campeche',\n",
    "    'chiapas',\n",
    "    'chihuahua',\n",
    "    'coahuila',\n",
    "    'colima',\n",
    "    'durango',\n",
    "    'guanajuato',\n",
    "    'guerrero',\n",
    "    'hidalgo',\n",
    "    'jalisco',\n",
    "    'mexico state',\n",
    "    'michoacan',\n",
    "    'morelos',\n",
    "    'nayarit',\n",
    "    'nuevo leon',\n",
    "    'oaxaca',\n",
    "    'puebla',\n",
    "    'queretaro',\n",
    "    'quintana roo',\n",
    "    'san luis potosi',\n",
    "    'sinaloa',\n",
    "    'sonora',\n",
    "    'tabasco',\n",
    "    'tamaulipas',\n",
    "    'tlaxcala',\n",
    "    'veracruz',\n",
    "    'yucatan',\n",
    "    'zacatecas'\n",
    "]"
   ]
  },
  {
   "cell_type": "code",
   "execution_count": null,
   "id": "5908368e",
   "metadata": {},
   "outputs": [
    {
     "name": "stderr",
     "output_type": "stream",
     "text": [
      "c:\\Users\\khushaal.a.chaudhary\\Anaconda3\\envs\\geo_gensim_env\\lib\\site-packages\\dask\\dataframe\\core.py:4419: UserWarning: \n",
      "You did not provide metadata, so Dask is running your function on a small dataset to guess output types. It is possible that Dask will guess incorrectly.\n",
      "To provide an explicit output types or to silence this message, please provide the `meta=` keyword, as described in the map or apply function that you are using.\n",
      "  Before: .apply(func)\n",
      "  After:  .apply(func, meta=('region', 'object'))\n",
      "\n",
      "  warnings.warn(meta_warning(meta))\n"
     ]
    }
   ],
   "source": [
    "#removing accents from the region column for better matching\n",
    "\n",
    "from unidecode import unidecode\n",
    "\n",
    "company_ds['region_no_accents'] = company_ds['region'].apply(lambda x: unidecode(str(x)).lower().strip())\n",
    "na_regions_processed = [unidecode(region).lower().strip() for region in na_states]"
   ]
  },
  {
   "cell_type": "code",
   "execution_count": 10,
   "id": "fde71525",
   "metadata": {},
   "outputs": [],
   "source": [
    "#filtering NA records from the company dataset\n",
    "\n",
    "na_records = company_ds[company_ds['region_no_accents'].isin(na_regions_processed)]"
   ]
  },
  {
   "cell_type": "code",
   "execution_count": 13,
   "id": "2ee3db17",
   "metadata": {},
   "outputs": [
    {
     "data": {
      "application/vnd.jupyter.widget-view+json": {
       "model_id": "7d731c11665642809748c61378d61d72",
       "version_major": 2,
       "version_minor": 0
      },
      "text/plain": [
       "                                             |          | [  0%]   00:00 -> (? left)"
      ]
     },
     "metadata": {},
     "output_type": "display_data"
    },
    {
     "name": "stdout",
     "output_type": "stream",
     "text": [
      "Report sv_report.html was generated! NOTEBOOK/COLAB USERS: the web browser MAY not pop up, regardless, the report IS saved in your notebook/colab files.\n"
     ]
    }
   ],
   "source": [
    "#EDA section\n",
    "\n",
    "report_sv = sv.analyze(na_records)\n",
    "report_sv.show_html('sv_report.html')\n",
    "\n",
    "#profile = ProfileReport(na_records,title=\"Company Data Profiling Report\", minimal=True)\n",
    "#profile.to_file(\"company_data_pr.html\")"
   ]
  },
  {
   "cell_type": "code",
   "execution_count": 12,
   "id": "be52f488",
   "metadata": {},
   "outputs": [
    {
     "name": "stdout",
     "output_type": "stream",
     "text": [
      "<class 'pandas.core.frame.DataFrame'>\n",
      "RangeIndex: 1034 entries, 0 to 1033\n",
      "Data columns (total 7 columns):\n",
      " #   Column                     Non-Null Count  Dtype \n",
      "---  ------                     --------------  ----- \n",
      " 0   Date                       1034 non-null   object\n",
      " 1   Brand-Names                1033 non-null   object\n",
      " 2   Product-Description        1034 non-null   object\n",
      " 3   Product-Types              1030 non-null   object\n",
      " 4   Recall-Reason-Description  1022 non-null   object\n",
      " 5   Company-Name               1034 non-null   object\n",
      " 6   Terminated Recall          490 non-null    object\n",
      "dtypes: object(7)\n",
      "memory usage: 56.7+ KB\n"
     ]
    }
   ],
   "source": [
    "recall_ds.info()"
   ]
  },
  {
   "cell_type": "code",
   "execution_count": 13,
   "id": "041db037",
   "metadata": {},
   "outputs": [
    {
     "name": "stderr",
     "output_type": "stream",
     "text": [
      "C:\\Users\\khushaal.a.chaudhary\\AppData\\Local\\Temp\\ipykernel_1400\\2674663970.py:1: FutureWarning: null_counts is deprecated. Use show_counts instead\n",
      "  usa_records.info(null_counts=True)\n"
     ]
    },
    {
     "name": "stdout",
     "output_type": "stream",
     "text": [
      "<class 'pandas.core.frame.DataFrame'>\n",
      "Int64Index: 3690529 entries, 2 to 14120759\n",
      "Data columns (total 10 columns):\n",
      " #   Column        Non-Null Count    Dtype  \n",
      "---  ------        --------------    -----  \n",
      " 0   country       3690529 non-null  object \n",
      " 1   founded       1762114 non-null  float64\n",
      " 2   id            3690529 non-null  object \n",
      " 3   industry      3116031 non-null  object \n",
      " 4   linkedin_url  3690529 non-null  object \n",
      " 5   locality      3499134 non-null  object \n",
      " 6   name          3690529 non-null  object \n",
      " 7   region        3690529 non-null  object \n",
      " 8   size          3690529 non-null  object \n",
      " 9   website       2863820 non-null  object \n",
      "dtypes: float64(1), object(9)\n",
      "memory usage: 309.7+ MB\n"
     ]
    }
   ],
   "source": [
    "na_records.info(null_counts=True)"
   ]
  },
  {
   "cell_type": "code",
   "execution_count": 14,
   "id": "cc2d8d7b",
   "metadata": {},
   "outputs": [
    {
     "name": "stdout",
     "output_type": "stream",
     "text": [
      "<class 'pandas.core.frame.DataFrame'>\n",
      "RangeIndex: 19623 entries, 0 to 19622\n",
      "Data columns (total 12 columns):\n",
      " #   Column                Non-Null Count  Dtype \n",
      "---  ------                --------------  ----- \n",
      " 0   FacName               19623 non-null  object\n",
      " 1   FacStreet             18007 non-null  object\n",
      " 2   FacCity               18276 non-null  object\n",
      " 3   FacState              19346 non-null  object\n",
      " 4   RegistryID            19623 non-null  object\n",
      " 5   FacSNCFlg             19623 non-null  object\n",
      " 6   FacQtrsWithNC         19623 non-null  int64 \n",
      " 7   FacInspectionCount    19623 non-null  int64 \n",
      " 8   FacFormalActionCount  19623 non-null  int64 \n",
      " 9   FacMapFlg             19623 non-null  object\n",
      " 10  SupOver80CountUsDisp  17669 non-null  object\n",
      " 11  DFR URL               19623 non-null  object\n",
      "dtypes: int64(3), object(9)\n",
      "memory usage: 1.8+ MB\n"
     ]
    }
   ],
   "source": [
    "violations_ds.info()"
   ]
  },
  {
   "cell_type": "code",
   "execution_count": 21,
   "id": "07579554",
   "metadata": {},
   "outputs": [
    {
     "data": {
      "application/vnd.jupyter.widget-view+json": {
       "model_id": "20f37ce3136a435d81ffac196f3ab5f9",
       "version_major": 2,
       "version_minor": 0
      },
      "text/plain": [
       "                                             |          | [  0%]   00:00 -> (? left)"
      ]
     },
     "metadata": {},
     "output_type": "display_data"
    },
    {
     "name": "stdout",
     "output_type": "stream",
     "text": [
      "Report recallds_sv_report.html was generated! NOTEBOOK/COLAB USERS: the web browser MAY not pop up, regardless, the report IS saved in your notebook/colab files.\n"
     ]
    }
   ],
   "source": [
    "report_sv = sv.analyze(recall_ds)\n",
    "report_sv.show_html('recallds_sv_report.html')"
   ]
  },
  {
   "cell_type": "code",
   "execution_count": 22,
   "id": "0e636d6f",
   "metadata": {},
   "outputs": [
    {
     "data": {
      "application/vnd.jupyter.widget-view+json": {
       "model_id": "853fe7f833d24bb3a95867f85effac64",
       "version_major": 2,
       "version_minor": 0
      },
      "text/plain": [
       "                                             |          | [  0%]   00:00 -> (? left)"
      ]
     },
     "metadata": {},
     "output_type": "display_data"
    },
    {
     "name": "stdout",
     "output_type": "stream",
     "text": [
      "Report violationsds_sv_report.html was generated! NOTEBOOK/COLAB USERS: the web browser MAY not pop up, regardless, the report IS saved in your notebook/colab files.\n"
     ]
    }
   ],
   "source": [
    "report_sv = sv.analyze(violations_ds)\n",
    "report_sv.show_html('violationsds_sv_report.html')"
   ]
  },
  {
   "cell_type": "code",
   "execution_count": 15,
   "id": "8f9a5ef8",
   "metadata": {},
   "outputs": [
    {
     "name": "stderr",
     "output_type": "stream",
     "text": [
      "C:\\Users\\khushaal.a.chaudhary\\AppData\\Local\\Temp\\ipykernel_1400\\287927176.py:3: FutureWarning: The default value of regex will change from True to False in a future version.\n",
      "  usa_records['id_processed'] = usa_records['id'].str.lower().str.replace('[^a-z0-9]','').str.strip()\n",
      "C:\\Users\\khushaal.a.chaudhary\\AppData\\Local\\Temp\\ipykernel_1400\\287927176.py:3: SettingWithCopyWarning: \n",
      "A value is trying to be set on a copy of a slice from a DataFrame.\n",
      "Try using .loc[row_indexer,col_indexer] = value instead\n",
      "\n",
      "See the caveats in the documentation: https://pandas.pydata.org/pandas-docs/stable/user_guide/indexing.html#returning-a-view-versus-a-copy\n",
      "  usa_records['id_processed'] = usa_records['id'].str.lower().str.replace('[^a-z0-9]','').str.strip()\n",
      "C:\\Users\\khushaal.a.chaudhary\\AppData\\Local\\Temp\\ipykernel_1400\\287927176.py:5: FutureWarning: The default value of regex will change from True to False in a future version.\n",
      "  recall_ds['Brand-Names_processed'] = recall_ds['Brand-Names'].str.replace('[^a-z0-9]','').str.strip()\n",
      "C:\\Users\\khushaal.a.chaudhary\\AppData\\Local\\Temp\\ipykernel_1400\\287927176.py:7: FutureWarning: The default value of regex will change from True to False in a future version.\n",
      "  violations_ds['FacName_processed'] = violations_ds['FacName'].str.replace('[^a-z0-9]','').str.strip()\n"
     ]
    }
   ],
   "source": [
    "#preprocessing the company name columns in all three datasets due to descripancies in their naming conventions\n",
    "\n",
    "na_records['id_processed'] = na_records['id'].str.lower().str.replace('[^a-z0-9]','').str.strip()\n",
    "\n",
    "recall_ds['Brand-Names_processed'] = recall_ds['Brand-Names'].str.replace('[^a-z0-9]','').str.strip()\n",
    "\n",
    "violations_ds['FacName_processed'] = violations_ds['FacName'].str.replace('[^a-z0-9]','').str.strip()"
   ]
  },
  {
   "cell_type": "code",
   "execution_count": 20,
   "id": "5dfa1f7a",
   "metadata": {},
   "outputs": [],
   "source": [
    "#performing the 1st outer join\n",
    "\n",
    "company_recall_merged = na_records.merge(recall_ds, left_on='id_processed', right_on='Brand-Names_processed', how='outer')\n"
   ]
  },
  {
   "cell_type": "code",
   "execution_count": 23,
   "id": "bce19ab6",
   "metadata": {},
   "outputs": [
    {
     "name": "stdout",
     "output_type": "stream",
     "text": [
      "(3690529, 11)\n",
      "(1034, 8)\n",
      "(19623, 13)\n",
      "(3696898, 19)\n"
     ]
    }
   ],
   "source": [
    "print(na_records.shape)\n",
    "print(recall_ds.shape)\n",
    "print(violations_ds.shape)\n",
    "print(company_recall_merged.shape)"
   ]
  },
  {
   "cell_type": "code",
   "execution_count": 24,
   "id": "1684e1aa",
   "metadata": {},
   "outputs": [],
   "source": [
    "#performing the final merge operation\n",
    "#Note that this is the point at which we get a memory error\n",
    "\n",
    "all_merged = company_recall_merged.merge(violations_ds, left_on='id_processed', right_on='FacName_processed', how='outer')\n"
   ]
  },
  {
   "cell_type": "code",
   "execution_count": null,
   "id": "a1687098",
   "metadata": {},
   "outputs": [],
   "source": [
    "#if we want to remove the processed columns in the final df\n",
    "all_merged.drop(columns = ['id_processed', 'Brand-Names_processed', 'FacName_processed'], inplace=True)"
   ]
  },
  {
   "cell_type": "code",
   "execution_count": null,
   "id": "8693be64",
   "metadata": {},
   "outputs": [],
   "source": [
    "#checking which company names were matched in all three datasets\n",
    "\n",
    "matched_companies = all_merged.dropna(subset=['id','Brand-Names','FacName'])\n",
    "\n",
    "print(matched_companies[['id','Brand-Names','FacName']])"
   ]
  }
 ],
 "metadata": {
  "kernelspec": {
   "display_name": "Python 3 (ipykernel)",
   "language": "python",
   "name": "python3"
  },
  "language_info": {
   "codemirror_mode": {
    "name": "ipython",
    "version": 3
   },
   "file_extension": ".py",
   "mimetype": "text/x-python",
   "name": "python",
   "nbconvert_exporter": "python",
   "pygments_lexer": "ipython3",
   "version": "3.9.7"
  }
 },
 "nbformat": 4,
 "nbformat_minor": 5
}
